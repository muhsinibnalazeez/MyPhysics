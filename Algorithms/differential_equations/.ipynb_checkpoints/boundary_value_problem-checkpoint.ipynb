{
 "cells": [
  {
   "cell_type": "markdown",
   "metadata": {},
   "source": [
    "# Boundary Value Problem"
   ]
  },
  {
   "cell_type": "markdown",
   "metadata": {},
   "source": [
    "As opposed to initial value problems, [Boundary value problems](https://en.wikipedia.org/wiki/Boundary_value_problem) is a class of differential equation together with a set of additional constraints (boundary conditions). A BVP with second order D.E has the form : \n",
    "\n",
    "$$\n",
    "\\frac{d^2y}{dx^2}\\ =\\ f\\left(x, y(x), y^{\\prime}(x)\\right),\\quad y(x_0) = a,\\quad y(x_n) = b\n",
    "$$\n",
    "\n",
    "Unlike initial value problems, a BVP has no unique solution. Some of theqniques used for finding solution are described here:"
   ]
  },
  {
   "cell_type": "markdown",
   "metadata": {},
   "source": [
    "## Shooting Method\n",
    "\n",
    "In this approach, we convert the BVP to Initial Value Problem(IVP). So, if we take $u_\\alpha$ to be the solution of the IVP, equivalent to the previous BVP, then it has the form :\n",
    "$$\n",
    "\\frac{d^2u_\\alpha}{dx^2}\\ =\\ f\\left(x, u_\\alpha(x), u_\\alpha^{\\prime}(x)\\right),\\quad u_\\alpha(x_0) = a,\\quad u^\\prime_\\alpha(x_0) = \\alpha\n",
    "$$\n",
    "\n",
    "Here, $\\alpha$ is choosen with an educated guess. Because of this guess, the value of this function $u_\\alpha(x)$ at $x=x_n$ will not be same as $y(x_n)$. Let us take the difference as $g(\\alpha)$, since the this depends on $\\alpha$. Thus we have : \n",
    "\n",
    "$$\n",
    "g(\\alpha)\\ =\\ u_\\alpha(x_n) - y(x_n)\\ =\\ u_\\alpha(x_n) - b \\qquad\\qquad \\because y(x_n) = \\alpha\n",
    "$$\n",
    "\n",
    "So, inorder to solve this set of equations, one has to find zero of equation above. Here are some expamples using different methods:"
   ]
  },
  {
   "cell_type": "markdown",
   "metadata": {},
   "source": [
    "### Bisection Shooting Method\n",
    "\n",
    "**Question :** solve the D.E :\n",
    "\n",
    "$$\n",
    "y^{\\prime\\prime} + 4y^\\prime\\ =\\ 5x, \\quad y(0)=1, \\quad y(1)=0\n",
    "$$\n",
    "**Solution :**\n",
    "Lets convert this to a initial value problem. \n",
    "\n",
    "$$\n",
    "u_\\alpha^{\\prime\\prime} + 4u_\\alpha^\\prime\\ =\\ 5x, \\quad u_\\alpha(0)=1, \\quad u^\\prime_\\alpha(0)=\\alpha\n",
    "$$\n",
    "\n",
    "lets pick initial values of $\\alpha$ are 0 and 5, so that when we take it as 0 and solve, $u_\\alpha(1)<0$ and for 5, $u_\\alpha(1)>0$. Lets try implimenting a runge kutta method for finding D.E"
   ]
  },
  {
   "cell_type": "markdown",
   "metadata": {},
   "source": [
    "### Runge Kutta \n",
    "\n",
    "the equation :\n",
    "\n",
    "$$\n",
    "y^{\\prime\\prime} + 4y^\\prime\\ =\\ 5x\n",
    "$$\n",
    "\n",
    "can be split into two differential equations by substituting for $y^\\prime = u$, so that the equation becomes\n",
    "\n",
    "\\begin{align}\n",
    "\\frac{dy}{dx} &= u \\\\[0.5em]\n",
    "\\frac{du}{dx} &= 5x-4u\n",
    "\\end{align}\n",
    "\n",
    "with constraints\n",
    "$$\n",
    "y(0) = 1, \\quad u(0) = \\alpha \n",
    "$$"
   ]
  },
  {
   "cell_type": "code",
   "execution_count": 1,
   "metadata": {},
   "outputs": [],
   "source": [
    "# importing necessary modules\n",
    "import numpy as np\n",
    "import matplotlib.pyplot as plt\n",
    "import scipy"
   ]
  },
  {
   "cell_type": "code",
   "execution_count": 3,
   "metadata": {},
   "outputs": [],
   "source": [
    "# defining f(x, u) for derivatve du/dx = f(x, u)\n",
    "def f(x, u):\n",
    "    return 5*x - 4*u\n",
    "\n",
    "# The following function takes a value of alpha and find the solution of the equation\n",
    "# y'' + 4y' = 5x using Runge-kutta method\n",
    "\n",
    "def desolve(alpha):\n",
    "    N = 200                      # Number of samples\n",
    "    x = np.linspace(0, 1, N)     # Creating the array x\n",
    "    y = np.zeros(N, dtype=float) # Creating array to store y\n",
    "    u = np.zeros(N, dtype=float) # Creating array to store u\n",
    "    dx = x[1] - x[0]\n",
    "    \n",
    "    # setting initial values\n",
    "    y[0] = 1\n",
    "    u[0] = alpha\n",
    "    \n",
    "    # Starting R-K loop\n",
    "    for i in range(1, N):\n",
    "        # k_x represents for y(x) and l_x for u(x)\n",
    "        k1 = u[i-1]\n",
    "        l1 = f(x[i-1], u[i-1])\n",
    "        k2 = u[i-1] + (1/2)*l1*dx\n",
    "        l2 = f(x[i-1] + (1/2)*dx, u[i-1] + (1/2)*l1*dx)\n",
    "        k3 = u[i-1] + (1/2)*l2*dx\n",
    "        l3 = f(x[i-1] + (1/2)*dx, u[i-1] + (1/2)*l2*dx)\n",
    "        k4 = u[i-1] + l3*dx\n",
    "        l4 = f(x[i-1] + dx, u[i-1] + l3*dx)\n",
    "        \n",
    "        # calculating the next y and u values\n",
    "        y[i] = y[i-1] + (1/6)*dx*(k1 + 2*k2 + 2*k3 + k4)\n",
    "        u[i] = u[i-1] + (1/6)*dx*(l1 + 2*l2 + 2*l3 + l4)\n",
    "    # Now, the array y stores the result\n",
    "    return y"
   ]
  },
  {
   "cell_type": "markdown",
   "metadata": {},
   "source": [
    "Lets check the result with two initial guess of $\\alpha$, $\\alpha_1 = 1$ and $\\alpha_2 = 5$"
   ]
  },
  {
   "cell_type": "code",
   "execution_count": null,
   "metadata": {},
   "outputs": [],
   "source": []
  }
 ],
 "metadata": {
  "kernelspec": {
   "display_name": "Python 3",
   "language": "python",
   "name": "python3"
  },
  "language_info": {
   "codemirror_mode": {
    "name": "ipython",
    "version": 3
   },
   "file_extension": ".py",
   "mimetype": "text/x-python",
   "name": "python",
   "nbconvert_exporter": "python",
   "pygments_lexer": "ipython3",
   "version": "3.7.4"
  }
 },
 "nbformat": 4,
 "nbformat_minor": 4
}
